{
 "cells": [
  {
   "cell_type": "markdown",
   "metadata": {},
   "source": [
    "# Data Mining et Python"
   ]
  },
  {
   "cell_type": "markdown",
   "metadata": {
    "ExecuteTime": {
     "end_time": "2021-05-10T10:33:03.659557Z",
     "start_time": "2021-05-10T10:33:03.657459Z"
    }
   },
   "source": [
    "## DataMining Definition"
   ]
  },
  {
   "cell_type": "markdown",
   "metadata": {},
   "source": [
    "Source: https://www.investopedia.com/terms/d/datamining.asp#:~:text=What%20Is%20Data%20Mining%3F,increase%20sales%20and%20decrease%20costs.\n",
    "\n",
    "Data mining is a process used by companies to **turn raw data into useful information**.\n",
    "\n",
    "By using software to look for patterns in large batches of data, businesses can learn more about their customers to develop more effective marketing strategies, increase sales and decrease costs.\n",
    "\n",
    "Data mining depends on: \n",
    "\n",
    "    - effective data collection,\n",
    "    - warehousing, and\n",
    "    - computer processing."
   ]
  },
  {
   "cell_type": "markdown",
   "metadata": {
    "ExecuteTime": {
     "end_time": "2021-05-10T10:33:10.566357Z",
     "start_time": "2021-05-10T10:33:10.563854Z"
    }
   },
   "source": [
    "# Plan"
   ]
  },
  {
   "cell_type": "markdown",
   "metadata": {},
   "source": [
    "1.  Les **notebook** sur python\n",
    "    - Introduction à Jupyter\n",
    "    - Installation du Jupyter\n",
    "    - Construire son premier notebook\n",
    "    - \n",
    "2.  Introduction à la bibliothèque python **Scikit Learn** \n",
    "    - Algorithmes, vocabulaire\n",
    "    - Panorama de Scikit Learn\n",
    "    - Démarche d’apprentissage\n",
    "    - \n",
    "3.  La **classification** avec Scikit Learn\n",
    "    - Lecture de jeux de données avec scikit learn\n",
    "    - Création de différents modèles de classification\n",
    "    - Paramétrage des modèles\n",
    "    - \n",
    "4.  La **régression** avec Scikit Learn\n",
    "    - Lecture de jeux de données avec scikit learn pour la régression\n",
    "    - Création de différents modèles de régression\n",
    "    - Paramétrage des modèles\n",
    "    - \n",
    "5.  Le **clustering** avec scikit Learn\n",
    "    - Lecture de jeux de données avec scikit learn pour la régression\n",
    "    - création de différent modèle de clustering\n",
    "    - Paramétrage des modèles\n",
    "    - \n",
    "6.  **Validation** des modèles avec Scikit Learn\n",
    "    - Construction de la base d’apprentissage et la base de test\n",
    "    - Utiliser les différents métriques d’évaluation de la bibliothèque pour tester les modèles créés auparavant.\n",
    "    - Comparaison des modèles\n",
    "    - \n",
    "7.  **Réduction** de la dimensionnalité avec Scikit Learn\n",
    "    - Construire une ACP avec Scikit Learn\n",
    "    - Manipuler les différentes méthodes de selection de caractéristiques\n",
    "    - \n",
    "8.  **Pipeline** avec Scikit Learn\n",
    "    - Définir le pattern Pipeline\n",
    "    - Mettre en œuvre une pipeline avec Scikit Learn\n",
    "    - "
   ]
  }
 ],
 "metadata": {
  "kernelspec": {
   "display_name": "Python 3",
   "language": "python",
   "name": "python3"
  },
  "language_info": {
   "codemirror_mode": {
    "name": "ipython",
    "version": 3
   },
   "file_extension": ".py",
   "mimetype": "text/x-python",
   "name": "python",
   "nbconvert_exporter": "python",
   "pygments_lexer": "ipython3",
   "version": "3.8.5"
  },
  "toc": {
   "base_numbering": 1,
   "nav_menu": {},
   "number_sections": true,
   "sideBar": true,
   "skip_h1_title": false,
   "title_cell": "Table of Contents",
   "title_sidebar": "Contents",
   "toc_cell": false,
   "toc_position": {},
   "toc_section_display": true,
   "toc_window_display": false
  },
  "varInspector": {
   "cols": {
    "lenName": 16,
    "lenType": 16,
    "lenVar": 40
   },
   "kernels_config": {
    "python": {
     "delete_cmd_postfix": "",
     "delete_cmd_prefix": "del ",
     "library": "var_list.py",
     "varRefreshCmd": "print(var_dic_list())"
    },
    "r": {
     "delete_cmd_postfix": ") ",
     "delete_cmd_prefix": "rm(",
     "library": "var_list.r",
     "varRefreshCmd": "cat(var_dic_list()) "
    }
   },
   "types_to_exclude": [
    "module",
    "function",
    "builtin_function_or_method",
    "instance",
    "_Feature"
   ],
   "window_display": false
  }
 },
 "nbformat": 4,
 "nbformat_minor": 4
}
