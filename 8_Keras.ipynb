{
 "cells": [
  {
   "cell_type": "markdown",
   "id": "94a95a65",
   "metadata": {},
   "source": [
    "# Keras"
   ]
  },
  {
   "cell_type": "markdown",
   "id": "e5bfb885",
   "metadata": {},
   "source": [
    "## Loading Data"
   ]
  },
  {
   "cell_type": "code",
   "execution_count": 2,
   "id": "fb236524",
   "metadata": {
    "ExecuteTime": {
     "end_time": "2021-05-19T21:00:24.951197Z",
     "start_time": "2021-05-19T21:00:24.949073Z"
    }
   },
   "outputs": [],
   "source": [
    "# first neural network with keras tutorial\n",
    "from numpy import loadtxt"
   ]
  },
  {
   "cell_type": "markdown",
   "id": "4812aaa9",
   "metadata": {},
   "source": [
    "Dataset: https://raw.githubusercontent.com/jbrownlee/Datasets/master/pima-indians-diabetes.data.csv\n",
    "\n",
    "Dataset details: https://raw.githubusercontent.com/jbrownlee/Datasets/master/pima-indians-diabetes.names"
   ]
  },
  {
   "cell_type": "code",
   "execution_count": 3,
   "id": "586f2b89",
   "metadata": {
    "ExecuteTime": {
     "end_time": "2021-05-19T21:00:27.342964Z",
     "start_time": "2021-05-19T21:00:24.954322Z"
    }
   },
   "outputs": [
    {
     "data": {
      "text/html": [
       "<div>\n",
       "<style scoped>\n",
       "    .dataframe tbody tr th:only-of-type {\n",
       "        vertical-align: middle;\n",
       "    }\n",
       "\n",
       "    .dataframe tbody tr th {\n",
       "        vertical-align: top;\n",
       "    }\n",
       "\n",
       "    .dataframe thead th {\n",
       "        text-align: right;\n",
       "    }\n",
       "</style>\n",
       "<table border=\"1\" class=\"dataframe\">\n",
       "  <thead>\n",
       "    <tr style=\"text-align: right;\">\n",
       "      <th></th>\n",
       "      <th>Number of times pregnant</th>\n",
       "      <th>Plasma glucose concentration</th>\n",
       "      <th>Diastolic blood pressure</th>\n",
       "      <th>Triceps skin fold thickness</th>\n",
       "      <th>Serum insulin</th>\n",
       "      <th>Body mass index</th>\n",
       "      <th>Diabetes pedigree</th>\n",
       "      <th>Age</th>\n",
       "      <th>Traget</th>\n",
       "    </tr>\n",
       "  </thead>\n",
       "  <tbody>\n",
       "    <tr>\n",
       "      <th>0</th>\n",
       "      <td>6</td>\n",
       "      <td>148</td>\n",
       "      <td>72</td>\n",
       "      <td>35</td>\n",
       "      <td>0</td>\n",
       "      <td>33.6</td>\n",
       "      <td>0.627</td>\n",
       "      <td>50</td>\n",
       "      <td>1</td>\n",
       "    </tr>\n",
       "    <tr>\n",
       "      <th>1</th>\n",
       "      <td>1</td>\n",
       "      <td>85</td>\n",
       "      <td>66</td>\n",
       "      <td>29</td>\n",
       "      <td>0</td>\n",
       "      <td>26.6</td>\n",
       "      <td>0.351</td>\n",
       "      <td>31</td>\n",
       "      <td>0</td>\n",
       "    </tr>\n",
       "    <tr>\n",
       "      <th>2</th>\n",
       "      <td>8</td>\n",
       "      <td>183</td>\n",
       "      <td>64</td>\n",
       "      <td>0</td>\n",
       "      <td>0</td>\n",
       "      <td>23.3</td>\n",
       "      <td>0.672</td>\n",
       "      <td>32</td>\n",
       "      <td>1</td>\n",
       "    </tr>\n",
       "    <tr>\n",
       "      <th>3</th>\n",
       "      <td>1</td>\n",
       "      <td>89</td>\n",
       "      <td>66</td>\n",
       "      <td>23</td>\n",
       "      <td>94</td>\n",
       "      <td>28.1</td>\n",
       "      <td>0.167</td>\n",
       "      <td>21</td>\n",
       "      <td>0</td>\n",
       "    </tr>\n",
       "    <tr>\n",
       "      <th>4</th>\n",
       "      <td>0</td>\n",
       "      <td>137</td>\n",
       "      <td>40</td>\n",
       "      <td>35</td>\n",
       "      <td>168</td>\n",
       "      <td>43.1</td>\n",
       "      <td>2.288</td>\n",
       "      <td>33</td>\n",
       "      <td>1</td>\n",
       "    </tr>\n",
       "    <tr>\n",
       "      <th>...</th>\n",
       "      <td>...</td>\n",
       "      <td>...</td>\n",
       "      <td>...</td>\n",
       "      <td>...</td>\n",
       "      <td>...</td>\n",
       "      <td>...</td>\n",
       "      <td>...</td>\n",
       "      <td>...</td>\n",
       "      <td>...</td>\n",
       "    </tr>\n",
       "    <tr>\n",
       "      <th>763</th>\n",
       "      <td>10</td>\n",
       "      <td>101</td>\n",
       "      <td>76</td>\n",
       "      <td>48</td>\n",
       "      <td>180</td>\n",
       "      <td>32.9</td>\n",
       "      <td>0.171</td>\n",
       "      <td>63</td>\n",
       "      <td>0</td>\n",
       "    </tr>\n",
       "    <tr>\n",
       "      <th>764</th>\n",
       "      <td>2</td>\n",
       "      <td>122</td>\n",
       "      <td>70</td>\n",
       "      <td>27</td>\n",
       "      <td>0</td>\n",
       "      <td>36.8</td>\n",
       "      <td>0.340</td>\n",
       "      <td>27</td>\n",
       "      <td>0</td>\n",
       "    </tr>\n",
       "    <tr>\n",
       "      <th>765</th>\n",
       "      <td>5</td>\n",
       "      <td>121</td>\n",
       "      <td>72</td>\n",
       "      <td>23</td>\n",
       "      <td>112</td>\n",
       "      <td>26.2</td>\n",
       "      <td>0.245</td>\n",
       "      <td>30</td>\n",
       "      <td>0</td>\n",
       "    </tr>\n",
       "    <tr>\n",
       "      <th>766</th>\n",
       "      <td>1</td>\n",
       "      <td>126</td>\n",
       "      <td>60</td>\n",
       "      <td>0</td>\n",
       "      <td>0</td>\n",
       "      <td>30.1</td>\n",
       "      <td>0.349</td>\n",
       "      <td>47</td>\n",
       "      <td>1</td>\n",
       "    </tr>\n",
       "    <tr>\n",
       "      <th>767</th>\n",
       "      <td>1</td>\n",
       "      <td>93</td>\n",
       "      <td>70</td>\n",
       "      <td>31</td>\n",
       "      <td>0</td>\n",
       "      <td>30.4</td>\n",
       "      <td>0.315</td>\n",
       "      <td>23</td>\n",
       "      <td>0</td>\n",
       "    </tr>\n",
       "  </tbody>\n",
       "</table>\n",
       "<p>768 rows × 9 columns</p>\n",
       "</div>"
      ],
      "text/plain": [
       "     Number of times pregnant  Plasma glucose concentration  \\\n",
       "0                           6                           148   \n",
       "1                           1                            85   \n",
       "2                           8                           183   \n",
       "3                           1                            89   \n",
       "4                           0                           137   \n",
       "..                        ...                           ...   \n",
       "763                        10                           101   \n",
       "764                         2                           122   \n",
       "765                         5                           121   \n",
       "766                         1                           126   \n",
       "767                         1                            93   \n",
       "\n",
       "     Diastolic blood pressure  Triceps skin fold thickness  Serum insulin  \\\n",
       "0                          72                           35              0   \n",
       "1                          66                           29              0   \n",
       "2                          64                            0              0   \n",
       "3                          66                           23             94   \n",
       "4                          40                           35            168   \n",
       "..                        ...                          ...            ...   \n",
       "763                        76                           48            180   \n",
       "764                        70                           27              0   \n",
       "765                        72                           23            112   \n",
       "766                        60                            0              0   \n",
       "767                        70                           31              0   \n",
       "\n",
       "     Body mass index  Diabetes pedigree  Age  Traget  \n",
       "0               33.6              0.627   50       1  \n",
       "1               26.6              0.351   31       0  \n",
       "2               23.3              0.672   32       1  \n",
       "3               28.1              0.167   21       0  \n",
       "4               43.1              2.288   33       1  \n",
       "..               ...                ...  ...     ...  \n",
       "763             32.9              0.171   63       0  \n",
       "764             36.8              0.340   27       0  \n",
       "765             26.2              0.245   30       0  \n",
       "766             30.1              0.349   47       1  \n",
       "767             30.4              0.315   23       0  \n",
       "\n",
       "[768 rows x 9 columns]"
      ]
     },
     "execution_count": 3,
     "metadata": {},
     "output_type": "execute_result"
    }
   ],
   "source": [
    "import pandas as pd\n",
    "\n",
    "link = \"https://raw.githubusercontent.com/jbrownlee/Datasets/master/pima-indians-diabetes.data.csv\"\n",
    "columns = [\"Number of times pregnant\",\n",
    "           \"Plasma glucose concentration\",\n",
    "           \"Diastolic blood pressure\",\n",
    "           \"Triceps skin fold thickness\",\n",
    "           \"Serum insulin\",\n",
    "           \"Body mass index\",\n",
    "           \"Diabetes pedigree\",\n",
    "           \"Age\",\n",
    "           \"Traget\"]\n",
    "\n",
    "df = pd.read_csv(link, names=columns)\n",
    "df"
   ]
  },
  {
   "cell_type": "markdown",
   "id": "5e9bd4da",
   "metadata": {},
   "source": [
    "## Split dataset"
   ]
  },
  {
   "cell_type": "code",
   "execution_count": 4,
   "id": "22465884",
   "metadata": {
    "ExecuteTime": {
     "end_time": "2021-05-19T21:00:27.347106Z",
     "start_time": "2021-05-19T21:00:27.344073Z"
    }
   },
   "outputs": [
    {
     "data": {
      "text/plain": [
       "(768, 9)"
      ]
     },
     "execution_count": 4,
     "metadata": {},
     "output_type": "execute_result"
    }
   ],
   "source": [
    "dataset = df.to_numpy()\n",
    "dataset.shape"
   ]
  },
  {
   "cell_type": "code",
   "execution_count": 5,
   "id": "463abd83",
   "metadata": {
    "ExecuteTime": {
     "end_time": "2021-05-19T21:00:27.356421Z",
     "start_time": "2021-05-19T21:00:27.348602Z"
    }
   },
   "outputs": [],
   "source": [
    "# split into input (X) and output (y) variables\n",
    "X = dataset[:,0:8]\n",
    "y = dataset[:,8]"
   ]
  },
  {
   "cell_type": "code",
   "execution_count": null,
   "id": "eba60919",
   "metadata": {
    "ExecuteTime": {
     "end_time": "2021-05-19T13:54:49.199737Z",
     "start_time": "2021-05-19T13:54:49.191523Z"
    }
   },
   "outputs": [],
   "source": []
  },
  {
   "cell_type": "markdown",
   "id": "df092527",
   "metadata": {},
   "source": [
    "## Keras Model"
   ]
  },
  {
   "cell_type": "markdown",
   "id": "8459ad5e",
   "metadata": {},
   "source": [
    "We create a Sequential model and add layers one at a time until we are happy with our network architecture.\n",
    "\n",
    "https://keras.io/api/models/sequential/"
   ]
  },
  {
   "cell_type": "markdown",
   "id": "f089ae11",
   "metadata": {},
   "source": [
    "### What is the input dimension?"
   ]
  },
  {
   "cell_type": "markdown",
   "id": "94417c0b",
   "metadata": {},
   "source": [
    "We want to know how many features there is in our train dataset"
   ]
  },
  {
   "cell_type": "code",
   "execution_count": 6,
   "id": "5a91f0e0",
   "metadata": {
    "ExecuteTime": {
     "end_time": "2021-05-19T21:00:27.366418Z",
     "start_time": "2021-05-19T21:00:27.357409Z"
    }
   },
   "outputs": [
    {
     "data": {
      "text/plain": [
       "(768, 8)"
      ]
     },
     "execution_count": 6,
     "metadata": {},
     "output_type": "execute_result"
    }
   ],
   "source": [
    "X.shape"
   ]
  },
  {
   "cell_type": "markdown",
   "id": "7e3e16ea",
   "metadata": {},
   "source": [
    "### How many layers and types ?"
   ]
  },
  {
   "cell_type": "markdown",
   "id": "3d9f1a89",
   "metadata": {},
   "source": [
    "This is a really hard question\n",
    "\n",
    "the best network structure is found through a process of trial and error experimentation"
   ]
  },
  {
   "cell_type": "markdown",
   "id": "234c27f9",
   "metadata": {},
   "source": [
    "In this example, we will use a fully-connected network structure with three layers."
   ]
  },
  {
   "cell_type": "markdown",
   "id": "b08cba37",
   "metadata": {},
   "source": [
    "### Some intuitions"
   ]
  },
  {
   "cell_type": "markdown",
   "id": "4bc44db1",
   "metadata": {},
   "source": [
    "How large is the network can be thought of how many information does the networks needs to have in mind\n",
    "\n",
    "Genrally we can start with layers as thick as the input layer and decrease at the end to the desired output size "
   ]
  },
  {
   "cell_type": "markdown",
   "id": "b78e0b2b",
   "metadata": {
    "ExecuteTime": {
     "end_time": "2021-05-16T15:33:05.342990Z",
     "start_time": "2021-05-16T15:33:05.336343Z"
    }
   },
   "source": [
    "How deep the network is can be thought of as how many calculs are required to anmswer the question.\n",
    "\n",
    "Here our question is pretty simple"
   ]
  },
  {
   "cell_type": "markdown",
   "id": "4e1c2c21",
   "metadata": {},
   "source": [
    "### Usage"
   ]
  },
  {
   "cell_type": "markdown",
   "id": "afbad77b",
   "metadata": {},
   "source": [
    "Fully connected layers are defined using the Dense class.\n",
    "\n",
    "We can specify:\n",
    "\n",
    "   - the number of neurons or nodes in the layer as the first argument\n",
    "   - specify the activation function using the activation argument.\n",
    "\n",
    "```python\n",
    "model.add(Dense(OUTPUT_SIZE, input_dim=INPUT_SIZE, activation='relu'))\n",
    "```"
   ]
  },
  {
   "cell_type": "markdown",
   "id": "46757210",
   "metadata": {},
   "source": [
    "### activation function"
   ]
  },
  {
   "cell_type": "markdown",
   "id": "0f5537e9",
   "metadata": {},
   "source": [
    "Sigmoid and Tanh function saturates.\n",
    "\n",
    "This cause the vanishing gradient problem.\n",
    "\n",
    "ReLU is a great solution today\n",
    "\n",
    "![ReLU](https://www.researchgate.net/publication/323617663/figure/fig3/AS:667846732423172@1536238477220/Nonlinear-function-a-Sigmoid-function-b-Tanh-function-c-ReLU-function-d-Leaky.png)\n",
    "\n",
    "Nonlinear function:\n",
    "\n",
    "    - (a) Sigmoid function\n",
    "    - (b) Tanh function\n",
    "    - (c) ReLU function\n",
    "    - (d) Leaky ReLU function"
   ]
  },
  {
   "cell_type": "code",
   "execution_count": 7,
   "id": "a34c11c5",
   "metadata": {
    "ExecuteTime": {
     "end_time": "2021-05-19T21:00:28.879968Z",
     "start_time": "2021-05-19T21:00:27.367325Z"
    }
   },
   "outputs": [],
   "source": [
    "from keras.models import Sequential\n",
    "from keras.layers import Dense\n",
    "\n",
    "# define the keras model\n",
    "model = Sequential()\n",
    "model.add(Dense(12, input_dim=8, activation='relu'))\n",
    "model.add(Dense(8, activation='relu'))\n",
    "model.add(Dense(1, activation='sigmoid'))\n",
    "\n",
    "# Layer 1:    N1     N2    N3     N4    N5     N6    N7     N8\n",
    "# Layer 2:    N1  N2  N3   N4  N5 N6  N7 N8  N9 N10 N11 N12 N13 N14 N15 N16\n",
    "# Layer 3:    N1     N2    N3     N4    N5     N6    N7     N8\n",
    "# Layer 4:    N1"
   ]
  },
  {
   "cell_type": "markdown",
   "id": "871799a2",
   "metadata": {
    "ExecuteTime": {
     "end_time": "2021-05-19T15:11:52.132982Z",
     "start_time": "2021-05-19T15:11:52.009951Z"
    }
   },
   "source": [
    "Here is another Neural Network which is nicely represented\n",
    "![Schema d'un autre reseau de neurone](https://miro.medium.com/max/2636/1*3fA77_mLNiJTSgZFhYnU0Q.png)"
   ]
  },
  {
   "cell_type": "markdown",
   "id": "964bbd2e",
   "metadata": {},
   "source": [
    "Note, the most confusing thing here is:\n",
    "\n",
    "The shape of the input to the model is defined as an argument on the first hidden layer.\n",
    "\n",
    "This means that the line of code that adds the first Dense layer is doing 2 things, defining the input or visible layer and the first hidden layer."
   ]
  },
  {
   "cell_type": "markdown",
   "id": "dde57687",
   "metadata": {
    "ExecuteTime": {
     "end_time": "2021-05-16T15:57:47.348720Z",
     "start_time": "2021-05-16T15:57:47.346809Z"
    }
   },
   "source": [
    "### Compile "
   ]
  },
  {
   "cell_type": "markdown",
   "id": "dc69a3a3",
   "metadata": {},
   "source": [
    "Compiling the model uses the efficient numerical libraries under the covers (the so-called backend) such as Theano or TensorFlow"
   ]
  },
  {
   "cell_type": "markdown",
   "id": "459f5501",
   "metadata": {},
   "source": [
    "The backend automatically chooses the best way to represent the network for training and making predictions to run on your hardware, such as CPU or GPU or even distributed."
   ]
  },
  {
   "cell_type": "code",
   "execution_count": 8,
   "id": "8fbb9710",
   "metadata": {
    "ExecuteTime": {
     "end_time": "2021-05-19T21:00:28.882650Z",
     "start_time": "2021-05-19T21:00:28.880765Z"
    }
   },
   "outputs": [],
   "source": [
    "# compile the keras model\n",
    "# if it was regression it would be 'mse'\n",
    "# model.compile(loss='binary_crossentropy', optimizer='adam', metrics=['accuracy'])"
   ]
  },
  {
   "cell_type": "markdown",
   "id": "7b3e3c32",
   "metadata": {},
   "source": [
    "When compiling, we must specify some additional properties required when training the network:\n",
    "\n",
    " - We must specify the loss function to use to evaluate a set of weights\n",
    " - The optimizer is used to search through different weights for the network and any optional metrics we would like to collect and report during training."
   ]
  },
  {
   "cell_type": "markdown",
   "id": "de34b94d",
   "metadata": {},
   "source": [
    "#### Loss"
   ]
  },
  {
   "cell_type": "markdown",
   "id": "5f418f5a",
   "metadata": {},
   "source": [
    " https://machinelearningmastery.com/how-to-choose-loss-functions-when-training-deep-learning-neural-networks/\n",
    " \n",
    " - Regression Loss Functions\n",
    "    - Mean Squared Error Loss\n",
    "    - Mean Squared Logarithmic Error Loss\n",
    "    - Mean Absolute Error Loss\n",
    " - Binary Classification Loss Functions\n",
    "    - Binary Cross-Entropy\n",
    "    - Hinge Loss\n",
    "    - Squared Hinge Loss\n",
    " - Multi-Class Classification Loss Functions\n",
    "    - Multi-Class Cross-Entropy Loss\n",
    "    - Sparse Multiclass Cross-Entropy Loss\n",
    "    - Kullback Leibler Divergence Loss"
   ]
  },
  {
   "cell_type": "markdown",
   "id": "90f4fbee",
   "metadata": {},
   "source": [
    "We will use cross entropy as the loss argument.\n",
    "\n",
    "This loss is for a binary classification problems and is defined in Keras as “binary_crossentropy“."
   ]
  },
  {
   "cell_type": "markdown",
   "id": "1c7b7522",
   "metadata": {},
   "source": [
    "#### Optimizer"
   ]
  },
  {
   "cell_type": "markdown",
   "id": "eedeb404",
   "metadata": {},
   "source": [
    "We will define the optimizer as the efficient stochastic gradient descent algorithm “adam“."
   ]
  },
  {
   "cell_type": "markdown",
   "id": "45ed2d63",
   "metadata": {},
   "source": [
    "This is a popular version of gradient descent because it automatically tunes itself and gives good results in a wide range of problems"
   ]
  },
  {
   "cell_type": "markdown",
   "id": "d11d0da4",
   "metadata": {},
   "source": [
    "https://machinelearningmastery.com/adam-optimization-algorithm-for-deep-learning/"
   ]
  },
  {
   "cell_type": "markdown",
   "id": "389f8c75",
   "metadata": {
    "ExecuteTime": {
     "end_time": "2021-05-16T16:13:40.297864Z",
     "start_time": "2021-05-16T16:13:40.177484Z"
    }
   },
   "source": [
    "![Optimizers](https://machinelearningmastery.com/wp-content/uploads/2017/05/Comparison-of-Adam-to-Other-Optimization-Algorithms-Training-a-Multilayer-Perceptron.png)"
   ]
  },
  {
   "cell_type": "code",
   "execution_count": 9,
   "id": "cb4ccc2f",
   "metadata": {
    "ExecuteTime": {
     "end_time": "2021-05-19T21:00:28.896619Z",
     "start_time": "2021-05-19T21:00:28.883609Z"
    }
   },
   "outputs": [],
   "source": [
    "# compile the keras model\n",
    "model.compile(loss='binary_crossentropy', optimizer='adam', metrics=['accuracy'])"
   ]
  },
  {
   "cell_type": "markdown",
   "id": "6bf567a6",
   "metadata": {},
   "source": [
    "## Fitting the model"
   ]
  },
  {
   "cell_type": "markdown",
   "id": "a68c7bea",
   "metadata": {},
   "source": [
    "We can train or fit our model on our loaded data by calling the fit() function on the model."
   ]
  },
  {
   "cell_type": "markdown",
   "id": "7b99c164",
   "metadata": {},
   "source": [
    "Training occurs over epochs and each epoch is split into batches.\n",
    " - Epoch:\n",
    "     - One pass through all of the rows in the training dataset.\n",
    " - Batch:\n",
    "     - One or more samples considered by the model within an epoch before weights are updated."
   ]
  },
  {
   "cell_type": "markdown",
   "id": "4deb1788",
   "metadata": {
    "ExecuteTime": {
     "end_time": "2021-05-16T16:31:54.088072Z",
     "start_time": "2021-05-16T16:31:54.085084Z"
    }
   },
   "source": [
    "For this problem, we will run for a small number of epochs (150) and use a relatively small batch size of 10."
   ]
  },
  {
   "cell_type": "code",
   "execution_count": 10,
   "id": "81086b33",
   "metadata": {
    "ExecuteTime": {
     "end_time": "2021-05-19T21:00:28.903255Z",
     "start_time": "2021-05-19T21:00:28.898416Z"
    }
   },
   "outputs": [],
   "source": [
    "# 768 / 16"
   ]
  },
  {
   "cell_type": "code",
   "execution_count": 11,
   "id": "66735588",
   "metadata": {
    "ExecuteTime": {
     "end_time": "2021-05-19T21:00:39.336061Z",
     "start_time": "2021-05-19T21:00:28.904379Z"
    }
   },
   "outputs": [
    {
     "name": "stdout",
     "output_type": "stream",
     "text": [
      "Epoch 1/150\n",
      "48/48 [==============================] - 6s 617us/step - loss: 2.9404 - accuracy: 0.6435\n",
      "Epoch 2/150\n",
      "48/48 [==============================] - 0s 545us/step - loss: 1.1553 - accuracy: 0.6499\n",
      "Epoch 3/150\n",
      "48/48 [==============================] - 0s 486us/step - loss: 0.9585 - accuracy: 0.6662\n",
      "Epoch 4/150\n",
      "48/48 [==============================] - 0s 581us/step - loss: 0.7755 - accuracy: 0.6917\n",
      "Epoch 5/150\n",
      "48/48 [==============================] - 0s 583us/step - loss: 0.7612 - accuracy: 0.6639\n",
      "Epoch 6/150\n",
      "48/48 [==============================] - 0s 537us/step - loss: 0.7417 - accuracy: 0.6577\n",
      "Epoch 7/150\n",
      "48/48 [==============================] - 0s 502us/step - loss: 0.6826 - accuracy: 0.6544\n",
      "Epoch 8/150\n",
      "48/48 [==============================] - 0s 612us/step - loss: 0.6626 - accuracy: 0.6490\n",
      "Epoch 9/150\n",
      "48/48 [==============================] - 0s 539us/step - loss: 0.6340 - accuracy: 0.6711\n",
      "Epoch 10/150\n",
      "48/48 [==============================] - 0s 565us/step - loss: 0.6253 - accuracy: 0.6685\n",
      "Epoch 11/150\n",
      "48/48 [==============================] - 0s 489us/step - loss: 0.6313 - accuracy: 0.6889\n",
      "Epoch 12/150\n",
      "48/48 [==============================] - 0s 572us/step - loss: 0.6073 - accuracy: 0.6860\n",
      "Epoch 13/150\n",
      "48/48 [==============================] - 0s 529us/step - loss: 0.6272 - accuracy: 0.6601\n",
      "Epoch 14/150\n",
      "48/48 [==============================] - 0s 543us/step - loss: 0.5715 - accuracy: 0.7171\n",
      "Epoch 15/150\n",
      "48/48 [==============================] - 0s 494us/step - loss: 0.5918 - accuracy: 0.7056\n",
      "Epoch 16/150\n",
      "48/48 [==============================] - 0s 527us/step - loss: 0.6052 - accuracy: 0.6834\n",
      "Epoch 17/150\n",
      "48/48 [==============================] - 0s 466us/step - loss: 0.5691 - accuracy: 0.7200\n",
      "Epoch 18/150\n",
      "48/48 [==============================] - 0s 611us/step - loss: 0.5849 - accuracy: 0.6665\n",
      "Epoch 19/150\n",
      "48/48 [==============================] - 0s 506us/step - loss: 0.5774 - accuracy: 0.6931\n",
      "Epoch 20/150\n",
      "48/48 [==============================] - 0s 547us/step - loss: 0.6018 - accuracy: 0.6913\n",
      "Epoch 21/150\n",
      "48/48 [==============================] - 0s 532us/step - loss: 0.5993 - accuracy: 0.6995\n",
      "Epoch 22/150\n",
      "48/48 [==============================] - 0s 498us/step - loss: 0.5862 - accuracy: 0.6946\n",
      "Epoch 23/150\n",
      "48/48 [==============================] - 0s 480us/step - loss: 0.5586 - accuracy: 0.7206\n",
      "Epoch 24/150\n",
      "48/48 [==============================] - 0s 563us/step - loss: 0.5535 - accuracy: 0.7183\n",
      "Epoch 25/150\n",
      "48/48 [==============================] - 0s 545us/step - loss: 0.5811 - accuracy: 0.7110\n",
      "Epoch 26/150\n",
      "48/48 [==============================] - 0s 553us/step - loss: 0.5737 - accuracy: 0.6947\n",
      "Epoch 27/150\n",
      "48/48 [==============================] - 0s 497us/step - loss: 0.5956 - accuracy: 0.6895\n",
      "Epoch 28/150\n",
      "48/48 [==============================] - 0s 573us/step - loss: 0.5719 - accuracy: 0.7020\n",
      "Epoch 29/150\n",
      "48/48 [==============================] - 0s 583us/step - loss: 0.5801 - accuracy: 0.6964\n",
      "Epoch 30/150\n",
      "48/48 [==============================] - 0s 534us/step - loss: 0.5700 - accuracy: 0.7099\n",
      "Epoch 31/150\n",
      "48/48 [==============================] - 0s 543us/step - loss: 0.5855 - accuracy: 0.7004\n",
      "Epoch 32/150\n",
      "48/48 [==============================] - 0s 468us/step - loss: 0.5927 - accuracy: 0.6766\n",
      "Epoch 33/150\n",
      "48/48 [==============================] - 0s 423us/step - loss: 0.5632 - accuracy: 0.7206\n",
      "Epoch 34/150\n",
      "48/48 [==============================] - 0s 490us/step - loss: 0.5684 - accuracy: 0.7129\n",
      "Epoch 35/150\n",
      "48/48 [==============================] - 0s 511us/step - loss: 0.5448 - accuracy: 0.7345\n",
      "Epoch 36/150\n",
      "48/48 [==============================] - 0s 509us/step - loss: 0.5679 - accuracy: 0.7000\n",
      "Epoch 37/150\n",
      "48/48 [==============================] - 0s 511us/step - loss: 0.5408 - accuracy: 0.7554\n",
      "Epoch 38/150\n",
      "48/48 [==============================] - 0s 527us/step - loss: 0.5302 - accuracy: 0.7321\n",
      "Epoch 39/150\n",
      "48/48 [==============================] - 0s 535us/step - loss: 0.5569 - accuracy: 0.7057\n",
      "Epoch 40/150\n",
      "48/48 [==============================] - 0s 477us/step - loss: 0.5545 - accuracy: 0.7285\n",
      "Epoch 41/150\n",
      "48/48 [==============================] - 0s 465us/step - loss: 0.5682 - accuracy: 0.6975\n",
      "Epoch 42/150\n",
      "48/48 [==============================] - 0s 592us/step - loss: 0.5504 - accuracy: 0.7207\n",
      "Epoch 43/150\n",
      "48/48 [==============================] - 0s 535us/step - loss: 0.5578 - accuracy: 0.7202\n",
      "Epoch 44/150\n",
      "48/48 [==============================] - 0s 484us/step - loss: 0.5296 - accuracy: 0.7414\n",
      "Epoch 45/150\n",
      "48/48 [==============================] - 0s 530us/step - loss: 0.5523 - accuracy: 0.7346\n",
      "Epoch 46/150\n",
      "48/48 [==============================] - 0s 500us/step - loss: 0.5560 - accuracy: 0.7068\n",
      "Epoch 47/150\n",
      "48/48 [==============================] - 0s 619us/step - loss: 0.5464 - accuracy: 0.7269\n",
      "Epoch 48/150\n",
      "48/48 [==============================] - 0s 542us/step - loss: 0.5447 - accuracy: 0.7337\n",
      "Epoch 49/150\n",
      "48/48 [==============================] - 0s 584us/step - loss: 0.5224 - accuracy: 0.7322\n",
      "Epoch 50/150\n",
      "48/48 [==============================] - 0s 626us/step - loss: 0.5442 - accuracy: 0.7301\n",
      "Epoch 51/150\n",
      "48/48 [==============================] - 0s 482us/step - loss: 0.5286 - accuracy: 0.7601\n",
      "Epoch 52/150\n",
      "48/48 [==============================] - 0s 574us/step - loss: 0.5404 - accuracy: 0.7299\n",
      "Epoch 53/150\n",
      "48/48 [==============================] - 0s 517us/step - loss: 0.5511 - accuracy: 0.7435\n",
      "Epoch 54/150\n",
      "48/48 [==============================] - 0s 569us/step - loss: 0.5583 - accuracy: 0.7018\n",
      "Epoch 55/150\n",
      "48/48 [==============================] - 0s 530us/step - loss: 0.5595 - accuracy: 0.7191\n",
      "Epoch 56/150\n",
      "48/48 [==============================] - 0s 534us/step - loss: 0.5679 - accuracy: 0.7018\n",
      "Epoch 57/150\n",
      "48/48 [==============================] - 0s 501us/step - loss: 0.5358 - accuracy: 0.7454\n",
      "Epoch 58/150\n",
      "48/48 [==============================] - 0s 608us/step - loss: 0.5345 - accuracy: 0.7506\n",
      "Epoch 59/150\n",
      "48/48 [==============================] - 0s 458us/step - loss: 0.5488 - accuracy: 0.7089\n",
      "Epoch 60/150\n",
      "48/48 [==============================] - 0s 441us/step - loss: 0.5359 - accuracy: 0.7444\n",
      "Epoch 61/150\n",
      "48/48 [==============================] - 0s 529us/step - loss: 0.5650 - accuracy: 0.7442\n",
      "Epoch 62/150\n",
      "48/48 [==============================] - 0s 535us/step - loss: 0.5461 - accuracy: 0.7306\n",
      "Epoch 63/150\n",
      "48/48 [==============================] - 0s 525us/step - loss: 0.5372 - accuracy: 0.7436\n",
      "Epoch 64/150\n",
      "48/48 [==============================] - 0s 565us/step - loss: 0.5307 - accuracy: 0.7485\n",
      "Epoch 65/150\n",
      "48/48 [==============================] - 0s 527us/step - loss: 0.5809 - accuracy: 0.7178\n",
      "Epoch 66/150\n",
      "48/48 [==============================] - 0s 462us/step - loss: 0.5246 - accuracy: 0.7489\n",
      "Epoch 67/150\n",
      "48/48 [==============================] - 0s 578us/step - loss: 0.5397 - accuracy: 0.7459\n",
      "Epoch 68/150\n",
      "48/48 [==============================] - 0s 555us/step - loss: 0.5168 - accuracy: 0.7249\n",
      "Epoch 69/150\n",
      "48/48 [==============================] - 0s 543us/step - loss: 0.5240 - accuracy: 0.7593\n",
      "Epoch 70/150\n",
      "48/48 [==============================] - 0s 511us/step - loss: 0.5365 - accuracy: 0.7215\n",
      "Epoch 71/150\n",
      "48/48 [==============================] - 0s 518us/step - loss: 0.5200 - accuracy: 0.7451\n",
      "Epoch 72/150\n",
      "48/48 [==============================] - 0s 555us/step - loss: 0.5322 - accuracy: 0.7413\n",
      "Epoch 73/150\n",
      "48/48 [==============================] - 0s 514us/step - loss: 0.5440 - accuracy: 0.7343\n",
      "Epoch 74/150\n",
      "48/48 [==============================] - 0s 478us/step - loss: 0.5301 - accuracy: 0.7402\n",
      "Epoch 75/150\n",
      "48/48 [==============================] - 0s 523us/step - loss: 0.5453 - accuracy: 0.7175\n",
      "Epoch 76/150\n",
      "48/48 [==============================] - 0s 565us/step - loss: 0.5263 - accuracy: 0.7436\n",
      "Epoch 77/150\n",
      "48/48 [==============================] - 0s 590us/step - loss: 0.5309 - accuracy: 0.7298\n",
      "Epoch 78/150\n",
      "48/48 [==============================] - 0s 592us/step - loss: 0.4925 - accuracy: 0.7698\n",
      "Epoch 79/150\n",
      "48/48 [==============================] - 0s 606us/step - loss: 0.5250 - accuracy: 0.7500\n",
      "Epoch 80/150\n",
      "48/48 [==============================] - 0s 477us/step - loss: 0.5297 - accuracy: 0.7293\n",
      "Epoch 81/150\n"
     ]
    },
    {
     "name": "stdout",
     "output_type": "stream",
     "text": [
      "48/48 [==============================] - 0s 565us/step - loss: 0.5243 - accuracy: 0.7429\n",
      "Epoch 82/150\n",
      "48/48 [==============================] - 0s 510us/step - loss: 0.5196 - accuracy: 0.7411\n",
      "Epoch 83/150\n",
      "48/48 [==============================] - 0s 585us/step - loss: 0.5223 - accuracy: 0.7295\n",
      "Epoch 84/150\n",
      "48/48 [==============================] - 0s 533us/step - loss: 0.5232 - accuracy: 0.7648\n",
      "Epoch 85/150\n",
      "48/48 [==============================] - 0s 535us/step - loss: 0.5529 - accuracy: 0.7230\n",
      "Epoch 86/150\n",
      "48/48 [==============================] - 0s 576us/step - loss: 0.5079 - accuracy: 0.7662\n",
      "Epoch 87/150\n",
      "48/48 [==============================] - 0s 628us/step - loss: 0.5107 - accuracy: 0.7599\n",
      "Epoch 88/150\n",
      "48/48 [==============================] - 0s 515us/step - loss: 0.5339 - accuracy: 0.7366\n",
      "Epoch 89/150\n",
      "48/48 [==============================] - 0s 480us/step - loss: 0.5125 - accuracy: 0.7363\n",
      "Epoch 90/150\n",
      "48/48 [==============================] - 0s 473us/step - loss: 0.4769 - accuracy: 0.7708\n",
      "Epoch 91/150\n",
      "48/48 [==============================] - 0s 436us/step - loss: 0.5193 - accuracy: 0.7476\n",
      "Epoch 92/150\n",
      "48/48 [==============================] - 0s 467us/step - loss: 0.5218 - accuracy: 0.7482\n",
      "Epoch 93/150\n",
      "48/48 [==============================] - 0s 502us/step - loss: 0.5356 - accuracy: 0.7394\n",
      "Epoch 94/150\n",
      "48/48 [==============================] - 0s 481us/step - loss: 0.5298 - accuracy: 0.7433\n",
      "Epoch 95/150\n",
      "48/48 [==============================] - 0s 583us/step - loss: 0.5098 - accuracy: 0.7328\n",
      "Epoch 96/150\n",
      "48/48 [==============================] - 0s 471us/step - loss: 0.5076 - accuracy: 0.7431\n",
      "Epoch 97/150\n",
      "48/48 [==============================] - 0s 492us/step - loss: 0.4924 - accuracy: 0.7611\n",
      "Epoch 98/150\n",
      "48/48 [==============================] - 0s 510us/step - loss: 0.5029 - accuracy: 0.7680\n",
      "Epoch 99/150\n",
      "48/48 [==============================] - 0s 593us/step - loss: 0.5165 - accuracy: 0.7396\n",
      "Epoch 100/150\n",
      "48/48 [==============================] - 0s 483us/step - loss: 0.5103 - accuracy: 0.7713\n",
      "Epoch 101/150\n",
      "48/48 [==============================] - 0s 538us/step - loss: 0.5415 - accuracy: 0.7212\n",
      "Epoch 102/150\n",
      "48/48 [==============================] - 0s 457us/step - loss: 0.5057 - accuracy: 0.7412\n",
      "Epoch 103/150\n",
      "48/48 [==============================] - 0s 462us/step - loss: 0.4987 - accuracy: 0.7363\n",
      "Epoch 104/150\n",
      "48/48 [==============================] - 0s 537us/step - loss: 0.4950 - accuracy: 0.7768\n",
      "Epoch 105/150\n",
      "48/48 [==============================] - 0s 433us/step - loss: 0.4722 - accuracy: 0.7826\n",
      "Epoch 106/150\n",
      "48/48 [==============================] - 0s 536us/step - loss: 0.5044 - accuracy: 0.7381\n",
      "Epoch 107/150\n",
      "48/48 [==============================] - 0s 562us/step - loss: 0.4935 - accuracy: 0.7543\n",
      "Epoch 108/150\n",
      "48/48 [==============================] - 0s 538us/step - loss: 0.4872 - accuracy: 0.7486\n",
      "Epoch 109/150\n",
      "48/48 [==============================] - 0s 415us/step - loss: 0.4841 - accuracy: 0.7841\n",
      "Epoch 110/150\n",
      "48/48 [==============================] - 0s 523us/step - loss: 0.4987 - accuracy: 0.7480\n",
      "Epoch 111/150\n",
      "48/48 [==============================] - 0s 516us/step - loss: 0.5044 - accuracy: 0.7552\n",
      "Epoch 112/150\n",
      "48/48 [==============================] - 0s 520us/step - loss: 0.4846 - accuracy: 0.7805\n",
      "Epoch 113/150\n",
      "48/48 [==============================] - 0s 493us/step - loss: 0.5008 - accuracy: 0.7708\n",
      "Epoch 114/150\n",
      "48/48 [==============================] - 0s 542us/step - loss: 0.5071 - accuracy: 0.7523\n",
      "Epoch 115/150\n",
      "48/48 [==============================] - 0s 455us/step - loss: 0.5021 - accuracy: 0.7546\n",
      "Epoch 116/150\n",
      "48/48 [==============================] - 0s 581us/step - loss: 0.5279 - accuracy: 0.7432\n",
      "Epoch 117/150\n",
      "48/48 [==============================] - 0s 579us/step - loss: 0.4850 - accuracy: 0.7582\n",
      "Epoch 118/150\n",
      "48/48 [==============================] - 0s 560us/step - loss: 0.4857 - accuracy: 0.7711\n",
      "Epoch 119/150\n",
      "48/48 [==============================] - 0s 440us/step - loss: 0.4700 - accuracy: 0.7727\n",
      "Epoch 120/150\n",
      "48/48 [==============================] - 0s 479us/step - loss: 0.4736 - accuracy: 0.7738\n",
      "Epoch 121/150\n",
      "48/48 [==============================] - 0s 558us/step - loss: 0.4953 - accuracy: 0.7633\n",
      "Epoch 122/150\n",
      "48/48 [==============================] - 0s 572us/step - loss: 0.4745 - accuracy: 0.7681\n",
      "Epoch 123/150\n",
      "48/48 [==============================] - 0s 473us/step - loss: 0.5039 - accuracy: 0.7457\n",
      "Epoch 124/150\n",
      "48/48 [==============================] - 0s 555us/step - loss: 0.4782 - accuracy: 0.7659\n",
      "Epoch 125/150\n",
      "48/48 [==============================] - 0s 552us/step - loss: 0.5235 - accuracy: 0.7566\n",
      "Epoch 126/150\n",
      "48/48 [==============================] - 0s 523us/step - loss: 0.4950 - accuracy: 0.7476\n",
      "Epoch 127/150\n",
      "48/48 [==============================] - 0s 577us/step - loss: 0.4429 - accuracy: 0.7873\n",
      "Epoch 128/150\n",
      "48/48 [==============================] - 0s 471us/step - loss: 0.5032 - accuracy: 0.7712\n",
      "Epoch 129/150\n",
      "48/48 [==============================] - 0s 463us/step - loss: 0.5047 - accuracy: 0.7377\n",
      "Epoch 130/150\n",
      "48/48 [==============================] - 0s 551us/step - loss: 0.5283 - accuracy: 0.7339\n",
      "Epoch 131/150\n",
      "48/48 [==============================] - 0s 545us/step - loss: 0.4860 - accuracy: 0.7662\n",
      "Epoch 132/150\n",
      "48/48 [==============================] - 0s 485us/step - loss: 0.4896 - accuracy: 0.7582\n",
      "Epoch 133/150\n",
      "48/48 [==============================] - 0s 472us/step - loss: 0.4866 - accuracy: 0.7728\n",
      "Epoch 134/150\n",
      "48/48 [==============================] - 0s 510us/step - loss: 0.4797 - accuracy: 0.7753\n",
      "Epoch 135/150\n",
      "48/48 [==============================] - 0s 502us/step - loss: 0.4688 - accuracy: 0.7752\n",
      "Epoch 136/150\n",
      "48/48 [==============================] - 0s 530us/step - loss: 0.5190 - accuracy: 0.7490\n",
      "Epoch 137/150\n",
      "48/48 [==============================] - 0s 600us/step - loss: 0.4649 - accuracy: 0.7816\n",
      "Epoch 138/150\n",
      "48/48 [==============================] - 0s 549us/step - loss: 0.4940 - accuracy: 0.7530\n",
      "Epoch 139/150\n",
      "48/48 [==============================] - 0s 548us/step - loss: 0.5032 - accuracy: 0.7476\n",
      "Epoch 140/150\n",
      "48/48 [==============================] - 0s 587us/step - loss: 0.5019 - accuracy: 0.7660\n",
      "Epoch 141/150\n",
      "48/48 [==============================] - 0s 619us/step - loss: 0.4842 - accuracy: 0.7636\n",
      "Epoch 142/150\n",
      "48/48 [==============================] - 0s 564us/step - loss: 0.4791 - accuracy: 0.7724\n",
      "Epoch 143/150\n",
      "48/48 [==============================] - 0s 557us/step - loss: 0.4914 - accuracy: 0.7696\n",
      "Epoch 144/150\n",
      "48/48 [==============================] - 0s 532us/step - loss: 0.5008 - accuracy: 0.7596\n",
      "Epoch 145/150\n",
      "48/48 [==============================] - 0s 500us/step - loss: 0.4614 - accuracy: 0.7802\n",
      "Epoch 146/150\n",
      "48/48 [==============================] - 0s 549us/step - loss: 0.4970 - accuracy: 0.7614\n",
      "Epoch 147/150\n",
      "48/48 [==============================] - 0s 513us/step - loss: 0.4801 - accuracy: 0.7673\n",
      "Epoch 148/150\n",
      "48/48 [==============================] - 0s 560us/step - loss: 0.4999 - accuracy: 0.7542\n",
      "Epoch 149/150\n",
      "48/48 [==============================] - 0s 480us/step - loss: 0.5102 - accuracy: 0.7315\n",
      "Epoch 150/150\n",
      "48/48 [==============================] - 0s 452us/step - loss: 0.4870 - accuracy: 0.7686\n"
     ]
    },
    {
     "data": {
      "text/plain": [
       "<keras.callbacks.History at 0x7f8074262910>"
      ]
     },
     "execution_count": 11,
     "metadata": {},
     "output_type": "execute_result"
    }
   ],
   "source": [
    "# fit the keras model on the dataset\n",
    "model.fit(X, y, epochs=150, batch_size=16)"
   ]
  },
  {
   "cell_type": "markdown",
   "id": "f859b191",
   "metadata": {},
   "source": [
    "If error: The reason might be the output progress bars during training. You can easily turn these off by setting verbose=0"
   ]
  },
  {
   "cell_type": "markdown",
   "id": "b8cc1216",
   "metadata": {},
   "source": [
    "## Model evaluation"
   ]
  },
  {
   "cell_type": "markdown",
   "id": "080fb861",
   "metadata": {},
   "source": [
    "We have trained our neural network on the entire dataset and we can evaluate the performance of the network on the same dataset."
   ]
  },
  {
   "cell_type": "markdown",
   "id": "2457b450",
   "metadata": {},
   "source": [
    "This will only give us an idea of how well we have modeled the dataset (e.g. train accuracy), but no idea of how well the algorithm might perform on new data.\n",
    "\n",
    "We have done this for simplicity, but ideally, you could separate your data into train and test datasets for training and evaluation of your model.make_predict_function"
   ]
  },
  {
   "cell_type": "markdown",
   "id": "17410a3f",
   "metadata": {},
   "source": [
    "You can evaluate your model on your training dataset using the evaluate() function on your model:\n",
    "\n",
    "    - Input:\n",
    "        - Train\n",
    "        - test\n",
    "    - Output:\n",
    "        - loss\n",
    "        - metrics (such as accuracy here) "
   ]
  },
  {
   "cell_type": "code",
   "execution_count": 12,
   "id": "267523e1",
   "metadata": {
    "ExecuteTime": {
     "end_time": "2021-05-19T21:00:39.597321Z",
     "start_time": "2021-05-19T21:00:39.337273Z"
    }
   },
   "outputs": [
    {
     "name": "stdout",
     "output_type": "stream",
     "text": [
      "24/24 [==============================] - 0s 456us/step - loss: 0.4819 - accuracy: 0.7656\n",
      "Accuracy: 76.56\n"
     ]
    }
   ],
   "source": [
    "# evaluate the keras model\n",
    "_, accuracy = model.evaluate(X, y)\n",
    "print('Accuracy: %.2f' % (accuracy*100))"
   ]
  },
  {
   "cell_type": "markdown",
   "id": "330c2a41",
   "metadata": {},
   "source": [
    "What score did you get?\n",
    "\n",
    "Neural networks are a stochastic algorithm"
   ]
  },
  {
   "cell_type": "markdown",
   "id": "887bf1c0",
   "metadata": {},
   "source": [
    "## Predictions"
   ]
  },
  {
   "cell_type": "markdown",
   "id": "1a412255",
   "metadata": {},
   "source": [
    "We are using a sigmoid activation function on the output layer -> between 0 and 1"
   ]
  },
  {
   "cell_type": "code",
   "execution_count": 13,
   "id": "a70e45e4",
   "metadata": {
    "ExecuteTime": {
     "end_time": "2021-05-19T21:00:39.601023Z",
     "start_time": "2021-05-19T21:00:39.598339Z"
    }
   },
   "outputs": [
    {
     "data": {
      "text/plain": [
       "Index(['Number of times pregnant', 'Plasma glucose concentration',\n",
       "       'Diastolic blood pressure', 'Triceps skin fold thickness',\n",
       "       'Serum insulin', 'Body mass index', 'Diabetes pedigree', 'Age',\n",
       "       'Traget'],\n",
       "      dtype='object')"
      ]
     },
     "execution_count": 13,
     "metadata": {},
     "output_type": "execute_result"
    }
   ],
   "source": [
    "df.columns"
   ]
  },
  {
   "cell_type": "code",
   "execution_count": 14,
   "id": "ac1b7529",
   "metadata": {
    "ExecuteTime": {
     "end_time": "2021-05-19T21:00:39.610565Z",
     "start_time": "2021-05-19T21:00:39.601967Z"
    }
   },
   "outputs": [
    {
     "data": {
      "text/plain": [
       "array([[  6.   , 148.   ,  72.   , ...,  33.6  ,   0.627,  50.   ],\n",
       "       [  1.   ,  85.   ,  66.   , ...,  26.6  ,   0.351,  31.   ],\n",
       "       [  8.   , 183.   ,  64.   , ...,  23.3  ,   0.672,  32.   ],\n",
       "       ...,\n",
       "       [  5.   , 121.   ,  72.   , ...,  26.2  ,   0.245,  30.   ],\n",
       "       [  1.   , 126.   ,  60.   , ...,  30.1  ,   0.349,  47.   ],\n",
       "       [  1.   ,  93.   ,  70.   , ...,  30.4  ,   0.315,  23.   ]])"
      ]
     },
     "execution_count": 14,
     "metadata": {},
     "output_type": "execute_result"
    }
   ],
   "source": [
    "X"
   ]
  },
  {
   "cell_type": "code",
   "execution_count": 15,
   "id": "fb8de0c7",
   "metadata": {
    "ExecuteTime": {
     "end_time": "2021-05-19T21:00:39.621657Z",
     "start_time": "2021-05-19T21:00:39.611266Z"
    }
   },
   "outputs": [
    {
     "data": {
      "text/plain": [
       "(768, 8)"
      ]
     },
     "execution_count": 15,
     "metadata": {},
     "output_type": "execute_result"
    }
   ],
   "source": [
    "X.shape"
   ]
  },
  {
   "cell_type": "code",
   "execution_count": 16,
   "id": "7ffea615",
   "metadata": {
    "ExecuteTime": {
     "end_time": "2021-05-19T21:00:39.822445Z",
     "start_time": "2021-05-19T21:00:39.622949Z"
    }
   },
   "outputs": [
    {
     "data": {
      "text/plain": [
       "array([[0.7674482],\n",
       "       [0.1374856],\n",
       "       [0.7971709],\n",
       "       [0.1164844],\n",
       "       [0.7162262]], dtype=float32)"
      ]
     },
     "execution_count": 16,
     "metadata": {},
     "output_type": "execute_result"
    }
   ],
   "source": [
    "# make probability predictions with the model\n",
    "predictions = model.predict(X)\n",
    "predictions[:5]"
   ]
  },
  {
   "cell_type": "code",
   "execution_count": 17,
   "id": "03eeb4f3",
   "metadata": {
    "ExecuteTime": {
     "end_time": "2021-05-19T21:00:39.825065Z",
     "start_time": "2021-05-19T21:00:39.823223Z"
    }
   },
   "outputs": [],
   "source": [
    "one_example = X[0].reshape((1, -1))"
   ]
  },
  {
   "cell_type": "code",
   "execution_count": 18,
   "id": "428bc3c5",
   "metadata": {
    "ExecuteTime": {
     "end_time": "2021-05-19T21:00:39.918324Z",
     "start_time": "2021-05-19T21:00:39.825971Z"
    }
   },
   "outputs": [
    {
     "data": {
      "text/plain": [
       "array([[0.7674482]], dtype=float32)"
      ]
     },
     "execution_count": 18,
     "metadata": {},
     "output_type": "execute_result"
    }
   ],
   "source": [
    "# make probability predictions with the model\n",
    "prediction = model.predict(one_example)\n",
    "prediction"
   ]
  },
  {
   "cell_type": "code",
   "execution_count": 19,
   "id": "1bc2edf9",
   "metadata": {
    "ExecuteTime": {
     "end_time": "2021-05-19T21:00:39.921576Z",
     "start_time": "2021-05-19T21:00:39.919065Z"
    }
   },
   "outputs": [
    {
     "data": {
      "text/plain": [
       "(1, 1)"
      ]
     },
     "execution_count": 19,
     "metadata": {},
     "output_type": "execute_result"
    }
   ],
   "source": [
    "prediction.shape"
   ]
  },
  {
   "cell_type": "markdown",
   "id": "f24fd52f",
   "metadata": {},
   "source": [
    "We can round them to make a prediction"
   ]
  },
  {
   "cell_type": "code",
   "execution_count": 25,
   "id": "c3840557",
   "metadata": {
    "ExecuteTime": {
     "end_time": "2021-05-19T21:04:07.692064Z",
     "start_time": "2021-05-19T21:04:07.687096Z"
    }
   },
   "outputs": [
    {
     "data": {
      "text/plain": [
       "array([['True'],\n",
       "       ['False'],\n",
       "       ['True'],\n",
       "       ['False'],\n",
       "       ['True']], dtype='<U5')"
      ]
     },
     "execution_count": 25,
     "metadata": {},
     "output_type": "execute_result"
    }
   ],
   "source": [
    "# round predictions \n",
    "rounded = [\"True\" if round(x[0]) else \"False\" for x in y]\n",
    "rounded = np.array(rounded).reshape((-1, 1))\n",
    "rounded[:5]"
   ]
  },
  {
   "cell_type": "code",
   "execution_count": 44,
   "id": "c66e026a",
   "metadata": {
    "ExecuteTime": {
     "end_time": "2021-05-19T21:12:49.659613Z",
     "start_time": "2021-05-19T21:12:49.549573Z"
    }
   },
   "outputs": [
    {
     "data": {
      "text/plain": [
       "[Text(0.5, 0, 'Predicted'), Text(0, 0.5, 'Actual')]"
      ]
     },
     "execution_count": 44,
     "metadata": {},
     "output_type": "execute_result"
    },
    {
     "data": {
      "image/png": "[encoded data removed]",
      "text/plain": [
       "<Figure size 432x288 with 1 Axes>"
      ]
     },
     "metadata": {
      "needs_background": "light"
     },
     "output_type": "display_data"
    }
   ],
   "source": [
    "import seaborn as sns\n",
    "\n",
    "ax = sns.stripplot(x=predictions.reshape(-1), y=rounded.reshape(-1), hue=y.reshape(-1), jitter=0.5)\n",
    "ax.set(xlabel=\"Predicted\", ylabel = \"Actual\")"
   ]
  },
  {
   "cell_type": "markdown",
   "id": "434bca57",
   "metadata": {},
   "source": [
    "## Summary print"
   ]
  },
  {
   "cell_type": "code",
   "execution_count": 22,
   "id": "274cf351",
   "metadata": {
    "ExecuteTime": {
     "end_time": "2021-05-19T21:01:36.433082Z",
     "start_time": "2021-05-19T21:01:36.429754Z"
    }
   },
   "outputs": [
    {
     "name": "stdout",
     "output_type": "stream",
     "text": [
      "[6.0, 148.0, 72.0, 35.0, 0.0, 33.6, 0.627, 50.0]   => [0.7674482] (expected 1.0)\n",
      "[1.0, 85.0, 66.0, 29.0, 0.0, 26.6, 0.351, 31.0]    => [0.1374856] (expected 0.0)\n",
      "[8.0, 183.0, 64.0, 0.0, 0.0, 23.3, 0.672, 32.0]    => [0.7971709] (expected 1.0)\n",
      "[1.0, 89.0, 66.0, 23.0, 94.0, 28.1, 0.167, 21.0]   => [0.1164844] (expected 0.0)\n",
      "[0.0, 137.0, 40.0, 35.0, 168.0, 43.1, 2.288, 33.0] => [0.7162262] (expected 1.0)\n"
     ]
    }
   ],
   "source": [
    "# summarize the first 5 cases\n",
    "for i in range(5):\n",
    "    print(f'{str(X[i].tolist()):50} => {predictions[i]} (expected {y[i]})')"
   ]
  }
 ],
 "metadata": {
  "kernelspec": {
   "display_name": "Python 3",
   "language": "python",
   "name": "python3"
  },
  "language_info": {
   "codemirror_mode": {
    "name": "ipython",
    "version": 3
   },
   "file_extension": ".py",
   "mimetype": "text/x-python",
   "name": "python",
   "nbconvert_exporter": "python",
   "pygments_lexer": "ipython3",
   "version": "3.8.5"
  },
  "toc": {
   "base_numbering": 1,
   "nav_menu": {},
   "number_sections": true,
   "sideBar": true,
   "skip_h1_title": false,
   "title_cell": "Table of Contents",
   "title_sidebar": "Contents",
   "toc_cell": false,
   "toc_position": {},
   "toc_section_display": true,
   "toc_window_display": false
  },
  "varInspector": {
   "cols": {
    "lenName": 16,
    "lenType": 16,
    "lenVar": 40
   },
   "kernels_config": {
    "python": {
     "delete_cmd_postfix": "",
     "delete_cmd_prefix": "del ",
     "library": "var_list.py",
     "varRefreshCmd": "print(var_dic_list())"
    },
    "r": {
     "delete_cmd_postfix": ") ",
     "delete_cmd_prefix": "rm(",
     "library": "var_list.r",
     "varRefreshCmd": "cat(var_dic_list()) "
    }
   },
   "types_to_exclude": [
    "module",
    "function",
    "builtin_function_or_method",
    "instance",
    "_Feature"
   ],
   "window_display": false
  }
 },
 "nbformat": 4,
 "nbformat_minor": 5
}
