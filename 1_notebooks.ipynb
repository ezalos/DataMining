{
 "cells": [
  {
   "cell_type": "markdown",
   "metadata": {},
   "source": [
    "# About"
   ]
  },
  {
   "cell_type": "markdown",
   "metadata": {},
   "source": [
    "## The Jupyter Notebook"
   ]
  },
  {
   "cell_type": "markdown",
   "metadata": {},
   "source": [
    " - Is an **open** source web application\n",
    "\n",
    " - Contain **live code**, equations, visualizations, and text.\n",
    "\n",
    " - Maintained by the people at **Project Jupyter**.\n",
    "\n",
    " - Spin-off project from the **IPython** project.\n",
    " \n",
    " - The name, Jupyter, comes from the core supported programming languages that it supports: Julia, Python, and R. Jupyter ships with the IPython kernel\n",
    " \n",
    " - There are currently **over 100 other kernels** that you can also use."
   ]
  },
  {
   "cell_type": "markdown",
   "metadata": {},
   "source": [
    "# Installation\n",
    "From: https://jupyter.readthedocs.io/en/latest/install/notebook-classic.html"
   ]
  },
  {
   "cell_type": "markdown",
   "metadata": {},
   "source": [
    "## Prerequisite:\n",
    "\n",
    "Python\n",
    "(**>=Python 3.3**, or Python 2.7)\n",
    "\n",
    "It's recommended to use the Anaconda distribution to install Python and Jupyter."
   ]
  },
  {
   "cell_type": "markdown",
   "metadata": {},
   "source": [
    "## Installing Jupyter using Anaconda and conda"
   ]
  },
  {
   "cell_type": "markdown",
   "metadata": {},
   "source": [
    "### Installing Anaconda:\n",
    "\n",
    "Anaconda conveniently installs Python, the Jupyter Notebook, and other commonly used packages for scientific computing and data science.\n",
    "\n",
    "https://www.anaconda.com/products/individual"
   ]
  },
  {
   "cell_type": "markdown",
   "metadata": {},
   "source": [
    "### Alternative:\n",
    "\n",
    "```sh\n",
    "pip3 install --upgrade pip\n",
    "pip3 install jupyter\n",
    "```"
   ]
  },
  {
   "cell_type": "markdown",
   "metadata": {},
   "source": [
    "# Usage"
   ]
  },
  {
   "cell_type": "markdown",
   "metadata": {},
   "source": [
    "## Launching jupyter"
   ]
  },
  {
   "cell_type": "markdown",
   "metadata": {},
   "source": [
    "In a terminal:\n",
    "```sh\n",
    "jupyter-notebook\n",
    "```\n",
    "or \n",
    "```sh\n",
    "jupyter-notebook file_name/folder\n",
    "```"
   ]
  },
  {
   "cell_type": "markdown",
   "metadata": {},
   "source": [
    "This will start up Jupyter and your default browser should start (or open a new tab) to the following URL: http://localhost:8888/tree"
   ]
  },
  {
   "cell_type": "markdown",
   "metadata": {},
   "source": [
    "## Creating a Notebook"
   ]
  },
  {
   "cell_type": "markdown",
   "metadata": {},
   "source": [
    "## Renaming a Notebook"
   ]
  },
  {
   "cell_type": "markdown",
   "metadata": {},
   "source": [
    "## Running a cell\n",
    "\n",
    "shift + enter"
   ]
  },
  {
   "cell_type": "code",
   "execution_count": 5,
   "metadata": {
    "ExecuteTime": {
     "end_time": "2021-05-17T07:52:03.246177Z",
     "start_time": "2021-05-17T07:52:03.243640Z"
    }
   },
   "outputs": [
    {
     "name": "stdout",
     "output_type": "stream",
     "text": [
      "Hello World\n"
     ]
    }
   ],
   "source": [
    "print(\"Hello World\")"
   ]
  },
  {
   "cell_type": "markdown",
   "metadata": {},
   "source": [
    "## Run selected cells\n",
    "\n",
    " - Select cells with:\n",
    "\n",
    "    - shit + up/down\n",
    "\n",
    "\n",
    "\n",
    " - Run cells with:\n",
    "\n",
    "    - ctrl + enter"
   ]
  },
  {
   "cell_type": "code",
   "execution_count": 12,
   "metadata": {},
   "outputs": [],
   "source": [
    "a = 0"
   ]
  },
  {
   "cell_type": "code",
   "execution_count": 13,
   "metadata": {},
   "outputs": [],
   "source": [
    "for i in range(10):\n",
    "    a += i"
   ]
  },
  {
   "cell_type": "code",
   "execution_count": 14,
   "metadata": {},
   "outputs": [
    {
     "data": {
      "text/plain": [
       "45"
      ]
     },
     "execution_count": 14,
     "metadata": {},
     "output_type": "execute_result"
    }
   ],
   "source": [
    "a"
   ]
  },
  {
   "cell_type": "markdown",
   "metadata": {},
   "source": [
    "## Saved variables between cells, example"
   ]
  },
  {
   "cell_type": "code",
   "execution_count": 6,
   "metadata": {
    "ExecuteTime": {
     "end_time": "2021-05-17T07:57:18.466271Z",
     "start_time": "2021-05-17T07:57:18.457241Z"
    }
   },
   "outputs": [
    {
     "data": {
      "text/plain": [
       "0"
      ]
     },
     "execution_count": 6,
     "metadata": {},
     "output_type": "execute_result"
    }
   ],
   "source": [
    "a = 0\n",
    "a"
   ]
  },
  {
   "cell_type": "code",
   "execution_count": 10,
   "metadata": {
    "ExecuteTime": {
     "end_time": "2021-05-17T07:57:32.430759Z",
     "start_time": "2021-05-17T07:57:32.427642Z"
    }
   },
   "outputs": [
    {
     "data": {
      "text/plain": [
       "4"
      ]
     },
     "execution_count": 10,
     "metadata": {},
     "output_type": "execute_result"
    }
   ],
   "source": [
    "a += 1\n",
    "a"
   ]
  },
  {
   "cell_type": "code",
   "execution_count": 13,
   "metadata": {
    "ExecuteTime": {
     "end_time": "2021-05-17T07:58:11.957162Z",
     "start_time": "2021-05-17T07:58:11.953998Z"
    }
   },
   "outputs": [
    {
     "data": {
      "text/plain": [
       "10"
      ]
     },
     "execution_count": 13,
     "metadata": {},
     "output_type": "execute_result"
    }
   ],
   "source": [
    "a += 2\n",
    "a"
   ]
  },
  {
   "cell_type": "markdown",
   "metadata": {},
   "source": [
    "## The 2 main types of cells\n",
    "\n",
    "- Markdown\n",
    "    - https://github.com/adam-p/markdown-here/wiki/Markdown-Cheatsheet\n",
    "    - https://stackoverflow.com/questions/48655801/tables-in-markdown-in-jupyter\n",
    "- Code"
   ]
  },
  {
   "cell_type": "markdown",
   "metadata": {},
   "source": [
    "## Shortcuts"
   ]
  },
  {
   "cell_type": "markdown",
   "metadata": {},
   "source": [
    "### Keys: \n",
    "the shortcuts are for Windows and Linux users.\n",
    "\n",
    "For the Mac users, they’re different buttons:\n",
    " - Ctrl: command key ⌘\n",
    " - Shift: Shift ⇧\n",
    " - Alt: option ⌥"
   ]
  },
  {
   "cell_type": "markdown",
   "metadata": {},
   "source": [
    "### The 2 modes\n",
    "\n",
    "command mode and edit mode."
   ]
  },
  {
   "cell_type": "markdown",
   "metadata": {},
   "source": [
    "### for command and edit\n",
    "\n",
    " - Shift + Enter\n",
    "    - run the current cell, select below\n",
    " - Ctrl + Enter\n",
    "    - run selected cells\n",
    " - Alt + Enter\n",
    "    - run the current cell, insert below\n",
    " - Ctrl + S\n",
    "    - save and checkpoint"
   ]
  },
  {
   "cell_type": "markdown",
   "metadata": {},
   "source": [
    "### Command mode \n",
    " - `Esc`\n",
    "     - to activate command mode\n",
    " - `H`\n",
    "     - Show all shortcuts\n",
    " - Y\n",
    "     - change cell to code\n",
    " - M\n",
    "     - change cell to markdown \n",
    " - A\n",
    "     - insert cell above\n",
    " - B\n",
    "     - insert cell below\n",
    " - X \n",
    "     - cut selected cells\n",
    " - C \n",
    "     - copy selected cells\n",
    " - V \n",
    "     - paste cells below\n",
    " - Shift + V \n",
    "     - paste cells above\n",
    " - D, D (press the key twice) \n",
    "     - delete selected cells\n",
    " - Z\n",
    "     - undo cell deletion"
   ]
  },
  {
   "cell_type": "markdown",
   "metadata": {},
   "source": [
    "# Extensions"
   ]
  },
  {
   "cell_type": "markdown",
   "metadata": {},
   "source": [
    "## Installation"
   ]
  },
  {
   "cell_type": "markdown",
   "metadata": {},
   "source": [
    "```sh\n",
    "pip install jupyter_contrib_nbextensions && jupyter contrib nbextension install \n",
    "```"
   ]
  },
  {
   "cell_type": "code",
   "execution_count": null,
   "metadata": {},
   "outputs": [],
   "source": []
  },
  {
   "cell_type": "markdown",
   "metadata": {},
   "source": [
    "### Table of Contents: easier navigation\n",
    "\n",
    "    "
   ]
  },
  {
   "cell_type": "markdown",
   "metadata": {},
   "source": [
    "### Collapsible Heading: Allows for a cleaner workspace\n"
   ]
  },
  {
   "cell_type": "markdown",
   "metadata": {},
   "source": [
    "### Autopep8: neat code in one click\n",
    "We should all write pep8 compliant code, this extension allows you to simply click the gavel and automatically format your messy code."
   ]
  },
  {
   "cell_type": "code",
   "execution_count": 15,
   "metadata": {
    "ExecuteTime": {
     "end_time": "2021-05-17T08:40:57.719193Z",
     "start_time": "2021-05-17T08:40:56.605362Z"
    }
   },
   "outputs": [
    {
     "name": "stdout",
     "output_type": "stream",
     "text": [
      "Requirement already satisfied: autopep8 in ./DataManing/lib/python3.8/site-packages (1.5.7)\r\n",
      "Requirement already satisfied: toml in ./DataManing/lib/python3.8/site-packages (from autopep8) (0.10.2)\r\n",
      "Requirement already satisfied: pycodestyle>=2.7.0 in ./DataManing/lib/python3.8/site-packages (from autopep8) (2.7.0)\r\n"
     ]
    }
   ],
   "source": [
    "!pip install autopep8"
   ]
  },
  {
   "cell_type": "markdown",
   "metadata": {},
   "source": [
    "### ExecuteTime: show when and how long cells ran"
   ]
  },
  {
   "cell_type": "markdown",
   "metadata": {
    "ExecuteTime": {
     "end_time": "2021-05-10T10:43:20.419585Z",
     "start_time": "2021-05-10T10:43:20.416247Z"
    }
   },
   "source": [
    "# Themes"
   ]
  },
  {
   "cell_type": "markdown",
   "metadata": {},
   "source": [
    "from https://github.com/dunovank/jupyter-themes\n",
    "```sh\n",
    "pip install jupyterthemes\n",
    "```\n",
    "\n",
    "```sh\n",
    "jt -t oceans16\n",
    "```\n"
   ]
  },
  {
   "cell_type": "markdown",
   "metadata": {
    "heading_collapsed": true
   },
   "source": [
    "# Resources\n",
    "- https://realpython.com/jupyter-notebook-introduction/\n",
    "- https://www.anaconda.com/products/individual\n",
    "- https://jupyter.org/install\n",
    "- https://jupyter.readthedocs.io/en/latest/install.html"
   ]
  }
 ],
 "metadata": {
  "kernelspec": {
   "display_name": "Python 3",
   "language": "python",
   "name": "python3"
  },
  "language_info": {
   "codemirror_mode": {
    "name": "ipython",
    "version": 3
   },
   "file_extension": ".py",
   "mimetype": "text/x-python",
   "name": "python",
   "nbconvert_exporter": "python",
   "pygments_lexer": "ipython3",
   "version": "3.8.5"
  },
  "toc": {
   "base_numbering": 1,
   "nav_menu": {},
   "number_sections": true,
   "sideBar": true,
   "skip_h1_title": false,
   "title_cell": "Table of Contents",
   "title_sidebar": "Contents",
   "toc_cell": false,
   "toc_position": {},
   "toc_section_display": true,
   "toc_window_display": true
  },
  "varInspector": {
   "cols": {
    "lenName": 16,
    "lenType": 16,
    "lenVar": 40
   },
   "kernels_config": {
    "python": {
     "delete_cmd_postfix": "",
     "delete_cmd_prefix": "del ",
     "library": "var_list.py",
     "varRefreshCmd": "print(var_dic_list())"
    },
    "r": {
     "delete_cmd_postfix": ") ",
     "delete_cmd_prefix": "rm(",
     "library": "var_list.r",
     "varRefreshCmd": "cat(var_dic_list()) "
    }
   },
   "types_to_exclude": [
    "module",
    "function",
    "builtin_function_or_method",
    "instance",
    "_Feature"
   ],
   "window_display": false
  }
 },
 "nbformat": 4,
 "nbformat_minor": 2
}
